{
 "cells": [
  {
   "cell_type": "code",
   "execution_count": 3,
   "metadata": {},
   "outputs": [
    {
     "name": "stdout",
     "output_type": "stream",
     "text": [
      "Upper: DHDHF\n"
     ]
    }
   ],
   "source": [
    "#task 1\n",
    "class Upperstring:\n",
    "    def __init__(self, string):\n",
    "        self.string = string\n",
    "    def Upper(self):\n",
    "        print(\"Upper:\", self.string.upper())\n",
    "\n",
    "n = input(\"Input:\")\n",
    "p1 = Upperstring(n)\n",
    "p1.Upper()"
   ]
  },
  {
   "cell_type": "code",
   "execution_count": null,
   "metadata": {},
   "outputs": [
    {
     "name": "stdout",
     "output_type": "stream",
     "text": [
      "25\n"
     ]
    }
   ],
   "source": [
    "#task 2\n",
    "class Shape:\n",
    "    def __init__(self):\n",
    "        pass\n",
    "\n",
    "    def area(self):\n",
    "        self.string = input(\"String:\")\n",
    "    \n",
    "\n",
    "class Square(Shape):\n",
    "    def __init__(self,length):\n",
    "        super().__init__()\n",
    "        self.length = length\n",
    "    \n",
    "    def area(self):\n",
    "        return self.length ** 2\n",
    "h = int(input())\n",
    "p1 = Square(h)\n",
    "print(p1.area())"
   ]
  },
  {
   "cell_type": "code",
   "execution_count": 11,
   "metadata": {},
   "outputs": [
    {
     "name": "stdout",
     "output_type": "stream",
     "text": [
      "Rectangle area: 24\n"
     ]
    }
   ],
   "source": [
    "#task 3\n",
    "class Rectangle(Shape):\n",
    "    def __init__(self, l, w): \n",
    "        super().__init__()\n",
    "        self.l = l\n",
    "        self.w = w\n",
    "\n",
    "    def area(self):  \n",
    "        return self.l * self.w\n",
    "n = int(input(\"enter length:\"))\n",
    "y = int(input(\"Enter Width:\"))\n",
    "rec = Rectangle(n, y)\n",
    "print(\"Rectangle area:\", rec.area())\n",
    "\n"
   ]
  },
  {
   "cell_type": "code",
   "execution_count": 12,
   "metadata": {},
   "outputs": [
    {
     "name": "stdout",
     "output_type": "stream",
     "text": [
      "Point coordinates: (2, 3)\n",
      "Point coordinates: (10, 15)\n",
      "Distance: 9.433981132056603\n"
     ]
    }
   ],
   "source": [
    "#task 4\n",
    "import math\n",
    "\n",
    "\n",
    "class Point:\n",
    "    def __init__(self, x, y):  \n",
    "        self.x = x\n",
    "        self.y = y\n",
    "\n",
    "    def show(self):  \n",
    "        print(f\"Point coordinates: ({self.x}, {self.y})\")\n",
    "\n",
    "    def move(self, new_x, new_y):  \n",
    "        self.x = new_x\n",
    "        self.y = new_y\n",
    "\n",
    "    def dist(self, other_point): \n",
    "        return math.sqrt((self.x - other_point.x) ** 2 + (self.y - other_point.y) ** 2)\n",
    "\n",
    "p1 = Point(2,3)\n",
    "p2 = Point(5,7)\n",
    "\n",
    "p1.show()\n",
    "p1.move(10,15)\n",
    "p1.show()\n",
    "\n",
    "print(\"Distance:\", p1.dist(p2))"
   ]
  },
  {
   "cell_type": "code",
   "execution_count": 1,
   "metadata": {},
   "outputs": [
    {
     "name": "stdout",
     "output_type": "stream",
     "text": [
      "Deposited: 500. New balance: 1500\n",
      "Withdrawn: 50. New balance: 1450\n",
      "Eror\n"
     ]
    }
   ],
   "source": [
    "#task 5\n",
    "class Account:\n",
    "    def __init__(self, owner, balance=0):  \n",
    "        self.owner = owner\n",
    "        self.balance = balance\n",
    "\n",
    "    def deposit(self, amount):  \n",
    "        self.balance += amount\n",
    "        print(f\"Deposited: {amount}. New balance: {self.balance}\")\n",
    "\n",
    "    def withdraw(self, amount):  \n",
    "        if amount > self.balance:\n",
    "            print(\"Eror\")\n",
    "        else:\n",
    "            self.balance -= amount\n",
    "            print(f\"Withdrawn: {amount}. New balance: {self.balance}\")\n",
    "account = Account(\"KBTU\", 1000)\n",
    "account.deposit(500)\n",
    "account.withdraw(50)\n",
    "account.withdraw(2000)"
   ]
  },
  {
   "cell_type": "code",
   "execution_count": 10,
   "metadata": {},
   "outputs": [
    {
     "name": "stdout",
     "output_type": "stream",
     "text": [
      "Prime numbers: [2, 3, 5, 7, 11, 13, 17]\n"
     ]
    }
   ],
   "source": [
    "#task 6\n",
    "def PrimeNum(num):\n",
    "    if num < 2:\n",
    "        return False\n",
    "    else:\n",
    "        for i in range(2,num//2+1):\n",
    "            if num%i==0:\n",
    "                return False\n",
    "    return True\n",
    "numbers = [1, 2, 3, 4, 5, 6, 7, 8, 9, 10, 11, 13, 17, 18]  \n",
    "prime_numbers = list(filter(lambda x: PrimeNum(x), numbers))  \n",
    "print(\"Prime numbers:\", prime_numbers) \n"
   ]
  }
 ],
 "metadata": {
  "kernelspec": {
   "display_name": "Python 3",
   "language": "python",
   "name": "python3"
  },
  "language_info": {
   "codemirror_mode": {
    "name": "ipython",
    "version": 3
   },
   "file_extension": ".py",
   "mimetype": "text/x-python",
   "name": "python",
   "nbconvert_exporter": "python",
   "pygments_lexer": "ipython3",
   "version": "3.11.9"
  }
 },
 "nbformat": 4,
 "nbformat_minor": 2
}
