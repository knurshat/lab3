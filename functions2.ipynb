{
 "cells": [
  {
   "cell_type": "code",
   "execution_count": null,
   "metadata": {},
   "outputs": [
    {
     "name": "stdout",
     "output_type": "stream",
     "text": [
      "False\n"
     ]
    }
   ],
   "source": [
    "# Dictionary of movies\n",
    "\n",
    "movies = [\n",
    "{\n",
    "\"name\": \"Usual Suspects\", \n",
    "\"imdb\": 7.0,\n",
    "\"category\": \"Thriller\"\n",
    "},\n",
    "{\n",
    "\"name\": \"Hitman\",\n",
    "\"imdb\": 6.3,\n",
    "\"category\": \"Action\"\n",
    "},\n",
    "{\n",
    "\"name\": \"Dark Knight\",\n",
    "\"imdb\": 9.0,\n",
    "\"category\": \"Adventure\"\n",
    "},\n",
    "{\n",
    "\"name\": \"The Help\",\n",
    "\"imdb\": 8.0,\n",
    "\"category\": \"Drama\"\n",
    "},\n",
    "{\n",
    "\"name\": \"The Choice\",\n",
    "\"imdb\": 6.2,\n",
    "\"category\": \"Romance\"\n",
    "},\n",
    "{\n",
    "\"name\": \"Colonia\",\n",
    "\"imdb\": 7.4,\n",
    "\"category\": \"Romance\"\n",
    "},\n",
    "{\n",
    "\"name\": \"Love\",\n",
    "\"imdb\": 6.0,\n",
    "\"category\": \"Romance\"\n",
    "},\n",
    "{\n",
    "\"name\": \"Bride Wars\",\n",
    "\"imdb\": 5.4,\n",
    "\"category\": \"Romance\"\n",
    "},\n",
    "{\n",
    "\"name\": \"AlphaJet\",\n",
    "\"imdb\": 3.2,\n",
    "\"category\": \"War\"\n",
    "},\n",
    "{\n",
    "\"name\": \"Ringing Crime\",\n",
    "\"imdb\": 4.0,\n",
    "\"category\": \"Crime\"\n",
    "},\n",
    "{\n",
    "\"name\": \"Joking muck\",\n",
    "\"imdb\": 7.2,\n",
    "\"category\": \"Comedy\"\n",
    "},\n",
    "{\n",
    "\"name\": \"What is the name\",\n",
    "\"imdb\": 9.2,\n",
    "\"category\": \"Suspense\"\n",
    "},\n",
    "{\n",
    "\"name\": \"Detective\",\n",
    "\"imdb\": 7.0,\n",
    "\"category\": \"Suspense\"\n",
    "},\n",
    "{\n",
    "\"name\": \"Exam\",\n",
    "\"imdb\": 4.2,\n",
    "\"category\": \"Thriller\"\n",
    "},\n",
    "{\n",
    "\"name\": \"We Two\",\n",
    "\"imdb\": 7.2,\n",
    "\"category\": \"Romance\"\n",
    "}\n",
    "]\n",
    " "
   ]
  },
  {
   "cell_type": "code",
   "execution_count": 5,
   "metadata": {},
   "outputs": [
    {
     "name": "stdout",
     "output_type": "stream",
     "text": [
      "False\n"
     ]
    }
   ],
   "source": [
    "#task 1\n",
    "def Respect(name):\n",
    "    for movie in movies:\n",
    "        if (movie[\"name\"]==name):\n",
    "            if (movie[\"imdb\"] > 5.5):\n",
    "                return True\n",
    "            else:\n",
    "                return False\n",
    "    return (\"This movie is not in the list of included movies ;(\") \n",
    "\n",
    "inc = input(\"Write the title of your movie: \\n\")\n",
    "print(Respect(inc))"
   ]
  },
  {
   "cell_type": "code",
   "execution_count": 7,
   "metadata": {},
   "outputs": [
    {
     "name": "stdout",
     "output_type": "stream",
     "text": [
      "{'name': 'Usual Suspects', 'imdb': 7.0, 'category': 'Thriller'}\n",
      "{'name': 'Hitman', 'imdb': 6.3, 'category': 'Action'}\n",
      "{'name': 'Dark Knight', 'imdb': 9.0, 'category': 'Adventure'}\n",
      "{'name': 'The Help', 'imdb': 8.0, 'category': 'Drama'}\n",
      "{'name': 'The Choice', 'imdb': 6.2, 'category': 'Romance'}\n",
      "{'name': 'Colonia', 'imdb': 7.4, 'category': 'Romance'}\n",
      "{'name': 'Love', 'imdb': 6.0, 'category': 'Romance'}\n",
      "{'name': 'Joking muck', 'imdb': 7.2, 'category': 'Comedy'}\n",
      "{'name': 'What is the name', 'imdb': 9.2, 'category': 'Suspense'}\n",
      "{'name': 'Detective', 'imdb': 7.0, 'category': 'Suspense'}\n",
      "{'name': 'We Two', 'imdb': 7.2, 'category': 'Romance'}\n"
     ]
    }
   ],
   "source": [
    "#task 2\n",
    "def Filter_movies_abode_5_5(movies):\n",
    "    filtered_movies= [movie for movie in movies if movie[\"imdb\"]> 5.5]\n",
    "    return filtered_movies\n",
    "def result(dic):\n",
    "    for i in dic:\n",
    "        print(i)\n",
    "filter = Filter_movies_abode_5_5(movies)\n",
    "result(filter)"
   ]
  },
  {
   "cell_type": "code",
   "execution_count": 8,
   "metadata": {},
   "outputs": [
    {
     "name": "stdout",
     "output_type": "stream",
     "text": [
      "{'name': 'The Choice', 'imdb': 6.2, 'category': 'Romance'}\n",
      "{'name': 'Colonia', 'imdb': 7.4, 'category': 'Romance'}\n",
      "{'name': 'Love', 'imdb': 6.0, 'category': 'Romance'}\n",
      "{'name': 'Bride Wars', 'imdb': 5.4, 'category': 'Romance'}\n",
      "{'name': 'We Two', 'imdb': 7.2, 'category': 'Romance'}\n"
     ]
    }
   ],
   "source": [
    "#task 3\n",
    "def filter_by_category(category):\n",
    "    for movie in movies:\n",
    "        if movie[\"category\"] == category:\n",
    "            print(movie)\n",
    "\n",
    "inp = input(\"Give me category:\\n\")\n",
    "filter_by_category(inp)"
   ]
  },
  {
   "cell_type": "code",
   "execution_count": 9,
   "metadata": {},
   "outputs": [
    {
     "name": "stdout",
     "output_type": "stream",
     "text": [
      "6.486666666666667\n"
     ]
    }
   ],
   "source": [
    "#task 4\n",
    "def average_value_imdb(movies):\n",
    "    it = 0\n",
    "    average_value = 0\n",
    "    sum_value = 0\n",
    "    for movie in movies:\n",
    "        it += 1\n",
    "        sum_value += movie[\"imdb\"]\n",
    "    average_value = sum_value / it\n",
    "    return average_value\n",
    "print(average_value_imdb(movies))\n",
    "\n",
    "\n"
   ]
  },
  {
   "cell_type": "code",
   "execution_count": 10,
   "metadata": {},
   "outputs": [
    {
     "name": "stdout",
     "output_type": "stream",
     "text": [
      "6.44\n"
     ]
    }
   ],
   "source": [
    "#task 5\n",
    "def average_value_imdb_in_category(category):\n",
    "    it = 0\n",
    "    average_value = 0\n",
    "    sum_value = 0\n",
    "    for movie in movies:\n",
    "        if movie[\"category\"] == category:\n",
    "            it += 1\n",
    "            sum_value += movie[\"imdb\"]\n",
    "    average_value = sum_value / it\n",
    "    return average_value\n",
    "inc = input(\"Write yurs  category:\\n\")\n",
    "print(average_value_imdb_in_category(inc))"
   ]
  }
 ],
 "metadata": {
  "kernelspec": {
   "display_name": "Python 3",
   "language": "python",
   "name": "python3"
  },
  "language_info": {
   "codemirror_mode": {
    "name": "ipython",
    "version": 3
   },
   "file_extension": ".py",
   "mimetype": "text/x-python",
   "name": "python",
   "nbconvert_exporter": "python",
   "pygments_lexer": "ipython3",
   "version": "3.11.9"
  }
 },
 "nbformat": 4,
 "nbformat_minor": 2
}
