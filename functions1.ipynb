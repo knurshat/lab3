{
 "cells": [
  {
   "cell_type": "code",
   "execution_count": 1,
   "metadata": {},
   "outputs": [
    {
     "name": "stdout",
     "output_type": "stream",
     "text": [
      "Your grams in ounces: 2834.9523099999997\n"
     ]
    }
   ],
   "source": [
    "#task 1\n",
    "n = float(input(\"Write grams:\"))\n",
    "y = 28.3495231 * n\n",
    "print(\"Your grams in ounces:\", y)\n"
   ]
  },
  {
   "cell_type": "code",
   "execution_count": 3,
   "metadata": {},
   "outputs": [
    {
     "name": "stdout",
     "output_type": "stream",
     "text": [
      "In C is: 37.77777777777778\n"
     ]
    }
   ],
   "source": [
    "#task 2\n",
    "F = float(input(\"Write F:\"))\n",
    "C = 5/9 *(F-32)\n",
    "print(\"In C is:\", C)"
   ]
  },
  {
   "cell_type": "code",
   "execution_count": 4,
   "metadata": {},
   "outputs": [
    {
     "name": "stdout",
     "output_type": "stream",
     "text": [
      "Chickens 23\n",
      "Rabbits 12\n"
     ]
    }
   ],
   "source": [
    "#task 3\n",
    "def chibet(heads, legs):\n",
    "    n = heads * 2\n",
    "    n = legs - n\n",
    "    Rabbits = n//2\n",
    "    Chickens = heads - Rabbits\n",
    "    return Rabbits, Chickens\n",
    "    \n",
    "heads  = int(input(\"Write number of heads:\"))\n",
    "legs = int(input(\"Write number of legs:\"))\n",
    "\n",
    "U = chibet(heads, legs)\n",
    "print(f\"Chickens {U[1]}\")\n",
    "print(f\"Rabbits {U[0]}\")\n"
   ]
  },
  {
   "cell_type": "code",
   "execution_count": null,
   "metadata": {},
   "outputs": [
    {
     "name": "stdout",
     "output_type": "stream",
     "text": [
      "[2, 3, 5, 7, 11, 13, 17, 19, 23, 29]\n"
     ]
    }
   ],
   "source": [
    "#task 4\n",
    "n = list(map(int, input(\"\").split()))\n",
    "def PrimeNum(num):\n",
    "    if num < 2:\n",
    "        return False\n",
    "    else:\n",
    "        for i in range(2,num//2+1):\n",
    "            if num%i==0:\n",
    "                return False\n",
    "    return True\n",
    "def FilterPrimeNum(j):\n",
    "    return [num for num in j if PrimeNum(num)]\n",
    "\n",
    "\n",
    "\n",
    "p = FilterPrimeNum(n)\n",
    "print(p)\n",
    "\n"
   ]
  },
  {
   "cell_type": "code",
   "execution_count": 20,
   "metadata": {},
   "outputs": [
    {
     "name": "stdout",
     "output_type": "stream",
     "text": [
      "['123', '132', '213', '231', '312', '321']\n"
     ]
    }
   ],
   "source": [
    "#task 5\n",
    "from itertools import permutations\n",
    "\n",
    "s = input()\n",
    "oo = [\"\".join(p) for p in permutations(s)]\n",
    "print(oo)"
   ]
  },
  {
   "cell_type": "code",
   "execution_count": null,
   "metadata": {},
   "outputs": [
    {
     "name": "stdout",
     "output_type": "stream",
     "text": [
      "3 2 1\n"
     ]
    }
   ],
   "source": [
    "#task 6\n",
    "s = list(input())\n",
    "s.reverse()\n",
    "lst = ''.join(s)\n",
    "print(lst)"
   ]
  },
  {
   "cell_type": "code",
   "execution_count": 36,
   "metadata": {},
   "outputs": [
    {
     "name": "stdout",
     "output_type": "stream",
     "text": [
      "True\n",
      "False\n",
      "False\n",
      "False\n"
     ]
    }
   ],
   "source": [
    "#task 7\n",
    "def has_33(nums):\n",
    "    for i in range(len(nums)-1):\n",
    "        num1 = nums[i]\n",
    "        num2 = nums[i+1]\n",
    "        if num1 == num2 == 3:\n",
    "            return True\n",
    "    return False\n",
    "\n",
    "print(has_33([1, 3, 3]))\n",
    "print(has_33([1, 3, 1, 3]))\n",
    "print(has_33([3, 1, 3]))\n",
    "print(has_33([1,2,2,3,4,5]))\n",
    "\n",
    "\n"
   ]
  },
  {
   "cell_type": "code",
   "execution_count": 38,
   "metadata": {},
   "outputs": [
    {
     "name": "stdout",
     "output_type": "stream",
     "text": [
      "True\n",
      "True\n",
      "False\n",
      "True\n"
     ]
    }
   ],
   "source": [
    "#task 8\n",
    "def spy_game(nums):\n",
    "    p = []\n",
    "    for i in range(len(nums)):\n",
    "        if nums[i] == 0 or nums[i] == 7:\n",
    "            p.append(nums[i])\n",
    "    if len(p) > 2:\n",
    "        for i in range(len(p)-2):\n",
    "            if p[i] == 0 and p[i+1] == 0 and p[i+2] == 7:\n",
    "                return True\n",
    "    return False\n",
    "\n",
    "    \n",
    "\n",
    "print(spy_game([1,2,4,0,0,7,5]))\n",
    "print(spy_game([1,0,2,4,0,5,7]))\n",
    "print(spy_game([1,7,2,0,4,5,0]))\n",
    "print(spy_game([1,7,2,0,4,5,0,0,0,7]))\n"
   ]
  },
  {
   "cell_type": "code",
   "execution_count": 2,
   "metadata": {},
   "outputs": [
    {
     "name": "stdout",
     "output_type": "stream",
     "text": [
      "4.188786666666666\n"
     ]
    }
   ],
   "source": [
    "#task 9\n",
    "c = float(input(\"give radios of sphere:\"))\n",
    "def Volume_sphere(rad):\n",
    "    return 4/3*3.14159*pow(rad, 3)\n",
    "print(Volume_sphere(c))"
   ]
  },
  {
   "cell_type": "code",
   "execution_count": 11,
   "metadata": {},
   "outputs": [
    {
     "name": "stdout",
     "output_type": "stream",
     "text": [
      "['as', 'df']\n"
     ]
    }
   ],
   "source": [
    "#task 10\n",
    "def Unique(lst):\n",
    "    o = list()\n",
    "    for i in lst:\n",
    "        if i not in o:\n",
    "            o.append(i)\n",
    "    return o\n",
    "f = input(\"\").split()\n",
    "print(Unique(f))\n"
   ]
  },
  {
   "cell_type": "code",
   "execution_count": 16,
   "metadata": {},
   "outputs": [
    {
     "name": "stdout",
     "output_type": "stream",
     "text": [
      "It's a palindrome\n"
     ]
    }
   ],
   "source": [
    "#task 11\n",
    "def Palendrome(n):\n",
    "    if n == n[::-1]:\n",
    "        return True\n",
    "    else:\n",
    "        return False\n",
    "i = input(\"Yor word or phraze: \")\n",
    "if (Palendrome(i)):\n",
    "    print(\"It's a palindrome\")\n",
    "else:\n",
    "    print(\"It's not a palindrome\")"
   ]
  },
  {
   "cell_type": "code",
   "execution_count": 18,
   "metadata": {},
   "outputs": [
    {
     "name": "stdout",
     "output_type": "stream",
     "text": [
      "****\n",
      "*********\n",
      "*******\n"
     ]
    }
   ],
   "source": [
    "#task 12\n",
    "def Histogram(nums):\n",
    "    l = []\n",
    "    for i in nums:\n",
    "        for j in range(1,i+1):\n",
    "            l.append('*')\n",
    "        print(''.join(l))\n",
    "        l.clear()\n",
    "\n",
    "j = list(map(int, input().split()))\n",
    "Histogram(j)\n"
   ]
  },
  {
   "cell_type": "code",
   "execution_count": 26,
   "metadata": {},
   "outputs": [
    {
     "name": "stdout",
     "output_type": "stream",
     "text": [
      "Hello! What is your name?\n",
      "\n",
      "Well, Nurshat ,I am thinking of a number 1 and 20\n",
      "Take a guess\n",
      "\n",
      "Your guess is too low\n",
      "Take a guess\n",
      "\n",
      "Your guess is too low\n",
      "Take a guess\n",
      "\n",
      "Your guess is too big\n",
      "Take a guess\n",
      "\n",
      "Your guess is too low\n",
      "Take a guess\n",
      "\n",
      "Good job, Nurshat! You guessed my number in 5 guesses!\n"
     ]
    }
   ],
   "source": [
    "#task 13\n",
    "import random\n",
    "\n",
    "def NumGame(n):\n",
    "    \n",
    "    print(\"Hello! What is your name?\")\n",
    "    v = input()\n",
    "    print(\"\")\n",
    "    guesses = 0\n",
    "    print(\"Well,\",v, \",I am thinking of a number 1 and 20\")\n",
    "    while(True):\n",
    "        print(\"Take a guess\")\n",
    "        num = int(input())\n",
    "        print(\"\")\n",
    "        guesses += 1\n",
    "        if (num > n):\n",
    "            print(\"Your guess is too big\")\n",
    "        elif (num< n):\n",
    "            print(\"Your guess is too low\")\n",
    "        else:\n",
    "            print(f\"Good job, {v}! You guessed my number in {guesses} guesses!\")\n",
    "            break\n",
    "n = random.randint(1,20)\n",
    "start = NumGame(n)"
   ]
  }
 ],
 "metadata": {
  "kernelspec": {
   "display_name": "Python 3",
   "language": "python",
   "name": "python3"
  },
  "language_info": {
   "codemirror_mode": {
    "name": "ipython",
    "version": 3
   },
   "file_extension": ".py",
   "mimetype": "text/x-python",
   "name": "python",
   "nbconvert_exporter": "python",
   "pygments_lexer": "ipython3",
   "version": "3.11.9"
  }
 },
 "nbformat": 4,
 "nbformat_minor": 2
}
